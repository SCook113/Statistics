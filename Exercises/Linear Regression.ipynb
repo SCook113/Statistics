{
 "cells": [
  {
   "cell_type": "code",
   "execution_count": 1,
   "metadata": {},
   "outputs": [],
   "source": [
    "import numpy as np\n",
    "%matplotlib inline\n",
    "import matplotlib.pyplot as plt\n",
    "import math\n",
    "from scipy import stats"
   ]
  },
  {
   "cell_type": "markdown",
   "metadata": {},
   "source": [
    "### Excercise 1 Linear Regression"
   ]
  },
  {
   "cell_type": "markdown",
   "metadata": {},
   "source": [
    "Excersies can be found here: http://www.mathods.com/mathe.php?con=Statistik&can=Hypothesentests&cun=Lineare+Regressionsfunktion"
   ]
  },
  {
   "cell_type": "markdown",
   "metadata": {},
   "source": [
    "I basically ignored the hypothesis test and fitted a linear model on the data instead."
   ]
  },
  {
   "cell_type": "code",
   "execution_count": 2,
   "metadata": {},
   "outputs": [
    {
     "data": {
      "text/html": [
       "<img src=\"pictures/problem_9.jpg\", width=600>"
      ],
      "text/plain": [
       "<IPython.core.display.HTML object>"
      ]
     },
     "metadata": {},
     "output_type": "display_data"
    }
   ],
   "source": [
    "%%html\n",
    "<img src=\"pictures/problem_9.jpg\", width=600>"
   ]
  },
  {
   "cell_type": "code",
   "execution_count": 3,
   "metadata": {},
   "outputs": [],
   "source": [
    "bill_amount = np.array([20.0, 23.7, 17.5, 15.8, 16.2, 22.0, 115.2 ])\n",
    "tip = np.array([3, 3.3, 2.5, 1.2, 1.8, 3, 14.8 ])"
   ]
  },
  {
   "cell_type": "code",
   "execution_count": 4,
   "metadata": {
    "scrolled": true
   },
   "outputs": [
    {
     "name": "stdout",
     "output_type": "stream",
     "text": [
      "slope: 0.12912823029877513    intercept: -0.021592037262541552; r_value= 0.995846205759418, std_err= 0.0052799517055716364,p-value= 2.131077243751687e-06\n"
     ]
    }
   ],
   "source": [
    "slope, intercept, r_value, p_value, std_err = stats.linregress(bill_amount, tip)\n",
    "print(f\"slope: {slope}    intercept: {intercept}; r_value= {r_value}, std_err= {std_err},p-value= {p_value}\")"
   ]
  },
  {
   "cell_type": "code",
   "execution_count": 5,
   "metadata": {},
   "outputs": [
    {
     "data": {
      "image/png": "[encoded data removed]",
      "text/plain": [
       "<Figure size 432x288 with 1 Axes>"
      ]
     },
     "metadata": {},
     "output_type": "display_data"
    }
   ],
   "source": [
    "plt.plot(bill_amount, tip, 'o', label='original data')\n",
    "plt.plot(bill_amount, intercept + slope*bill_amount, 'r', label='fitted line')\n",
    "plt.legend()\n",
    "plt.axis([10,40, -2, 10])\n",
    "plt.show()"
   ]
  },
  {
   "cell_type": "markdown",
   "metadata": {},
   "source": [
    "Predict tip for a bill:"
   ]
  },
  {
   "cell_type": "code",
   "execution_count": 6,
   "metadata": {},
   "outputs": [
    {
     "name": "stdout",
     "output_type": "stream",
     "text": [
      "The predicted tip for a bill of the amount 30 is 3.8522548717007123\n"
     ]
    }
   ],
   "source": [
    "test_amount = 30\n",
    "predicted_tip = intercept + slope * test_amount\n",
    "print(f\"The predicted tip for a bill of the amount {test_amount} is {predicted_tip}\")"
   ]
  },
  {
   "cell_type": "code",
   "execution_count": 7,
   "metadata": {},
   "outputs": [
    {
     "data": {
      "image/png": "[encoded data removed]",
      "text/plain": [
       "<Figure size 432x288 with 1 Axes>"
      ]
     },
     "metadata": {},
     "output_type": "display_data"
    }
   ],
   "source": [
    "plt.plot(bill_amount, tip, 'o', label='original data')\n",
    "plt.plot(test_amount, predicted_tip, 'o', label='predicted data')\n",
    "plt.plot(bill_amount, intercept + slope*bill_amount, 'r', label='fitted line')\n",
    "plt.legend()\n",
    "plt.axis([10,40, -2, 10])\n",
    "plt.show()"
   ]
  }
 ],
 "metadata": {
  "kernelspec": {
   "display_name": "Python 3",
   "language": "python",
   "name": "python3"
  },
  "language_info": {
   "codemirror_mode": {
    "name": "ipython",
    "version": 3
   },
   "file_extension": ".py",
   "mimetype": "text/x-python",
   "name": "python",
   "nbconvert_exporter": "python",
   "pygments_lexer": "ipython3",
   "version": "3.6.8"
  }
 },
 "nbformat": 4,
 "nbformat_minor": 2
}
