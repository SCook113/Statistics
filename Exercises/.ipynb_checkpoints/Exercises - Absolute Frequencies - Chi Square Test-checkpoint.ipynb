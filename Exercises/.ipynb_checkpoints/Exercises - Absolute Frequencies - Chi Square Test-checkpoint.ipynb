{
 "cells": [
  {
   "cell_type": "code",
   "execution_count": 1,
   "metadata": {},
   "outputs": [
    {
     "name": "stdout",
     "output_type": "stream",
     "text": [
      "Using matplotlib backend: TkAgg\n"
     ]
    }
   ],
   "source": [
    "import numpy as np\n",
    "%matplotlib\n",
    "import matplotlib as plt"
   ]
  },
  {
   "cell_type": "markdown",
   "metadata": {},
   "source": [
    "### Excercise 1 Absolute Frequencies"
   ]
  },
  {
   "cell_type": "markdown",
   "metadata": {},
   "source": [
    "Excersies can be found here:\n",
    "http://www.mathods.com/mathe.php?con=Statistik&kew=Absolute+H%E4ufigkeiten"
   ]
  },
  {
   "cell_type": "code",
   "execution_count": 2,
   "metadata": {
    "scrolled": false
   },
   "outputs": [
    {
     "data": {
      "text/html": [
       "<img src=\"pictures/problem_1.jpg\", width=600, height=600>"
      ],
      "text/plain": [
       "<IPython.core.display.HTML object>"
      ]
     },
     "metadata": {},
     "output_type": "display_data"
    }
   ],
   "source": [
    "%%html\n",
    "<img src=\"pictures/problem_1.jpg\", width=600, height=600>"
   ]
  },
  {
   "cell_type": "markdown",
   "metadata": {},
   "source": [
    "English:\n",
    "Get absolute frequencies and relative frequencies and cumulative distribution function."
   ]
  },
  {
   "cell_type": "code",
   "execution_count": 3,
   "metadata": {},
   "outputs": [],
   "source": [
    "numbers = np.array([20,21,21,25,21,24,22,23,20,22,21,23,22,22,23,22,22,25,23,23], dtype=int)"
   ]
  },
  {
   "cell_type": "code",
   "execution_count": 4,
   "metadata": {},
   "outputs": [
    {
     "name": "stdout",
     "output_type": "stream",
     "text": [
      "For number 20 the abs. frequency is: 2\n",
      "For number 21 the abs. frequency is: 4\n",
      "For number 22 the abs. frequency is: 6\n",
      "For number 23 the abs. frequency is: 5\n",
      "For number 24 the abs. frequency is: 1\n",
      "For number 25 the abs. frequency is: 2\n"
     ]
    }
   ],
   "source": [
    "unique_values, counts = np.unique(numbers, return_counts=True)\n",
    "for frequency in zip(unique_values, counts):\n",
    "    print(\"For number {number} the abs. frequency is: {frequency}\".format(number=frequency[0], frequency=frequency[1]))\n"
   ]
  },
  {
   "cell_type": "code",
   "execution_count": 5,
   "metadata": {},
   "outputs": [
    {
     "name": "stdout",
     "output_type": "stream",
     "text": [
      "For number 20 the rel. frequency is: 0.1\n",
      "For number 21 the rel. frequency is: 0.2\n",
      "For number 22 the rel. frequency is: 0.3\n",
      "For number 23 the rel. frequency is: 0.25\n",
      "For number 24 the rel. frequency is: 0.05\n",
      "For number 25 the rel. frequency is: 0.1\n"
     ]
    }
   ],
   "source": [
    "for frequency in zip(unique_values, counts):\n",
    "    print(\"For number {number} the rel. frequency is: {frequency}\".format(number=frequency[0], frequency=frequency[1] / numbers.size))\n"
   ]
  },
  {
   "cell_type": "markdown",
   "metadata": {},
   "source": [
    "### Excercise 2 Chi Square Test"
   ]
  },
  {
   "cell_type": "code",
   "execution_count": 6,
   "metadata": {},
   "outputs": [],
   "source": [
    "from scipy.stats import chi2_contingency, chi2"
   ]
  },
  {
   "cell_type": "markdown",
   "metadata": {},
   "source": [
    "Excersies can be found here:\n",
    "http://www.mathods.com/mathe.php?con=Statistik&can=Hypothesentests&cun=Chi-Quadrat-Unabh%E4ngigkeitstest"
   ]
  },
  {
   "cell_type": "code",
   "execution_count": 7,
   "metadata": {
    "scrolled": false
   },
   "outputs": [
    {
     "data": {
      "text/html": [
       "<img src=\"pictures/problem_2.jpg\", width=600, height=600>"
      ],
      "text/plain": [
       "<IPython.core.display.HTML object>"
      ]
     },
     "metadata": {},
     "output_type": "display_data"
    }
   ],
   "source": [
    "%%html\n",
    "<img src=\"pictures/problem_2.jpg\", width=600, height=600>"
   ]
  },
  {
   "cell_type": "markdown",
   "metadata": {},
   "source": [
    "##### Here is the solution to exercise 1. Exercise 2 can be read of of the chi square table and the result is: alpha = 0.1"
   ]
  },
  {
   "cell_type": "markdown",
   "metadata": {},
   "source": [
    "Chi Square Test how to:\n",
    "- get the test statistic\n",
    "- get critical value with the given confidence level and degrees of freedom\n",
    "- if test-statistic is greater than critical value, we reject H0"
   ]
  },
  {
   "cell_type": "code",
   "execution_count": 8,
   "metadata": {},
   "outputs": [
    {
     "name": "stdout",
     "output_type": "stream",
     "text": [
      "Stat: 0.6734006734006734, p-value: 0.4118684840579513, degrees of freedom: 1, expected results: [[33. 27.]\n",
      " [22. 18.]]\n"
     ]
    }
   ],
   "source": [
    "# Create contingency table\n",
    "con_table = np.array([[35, 25],[20,20]])\n",
    "\n",
    "# Get the test-statistic, p-value, degrees of freedom and the expected frequencies\n",
    "stat, p, dof, expected = chi2_contingency(con_table, correction=False)\n",
    "print(f\"Stat: {stat}, p-value: {p}, degrees of freedom: {dof}, expected results: {expected}\")"
   ]
  },
  {
   "cell_type": "code",
   "execution_count": 9,
   "metadata": {},
   "outputs": [
    {
     "name": "stdout",
     "output_type": "stream",
     "text": [
      "Critical value: 6.6348966010212145\n",
      "Values are independent (We fail to reject H0)\n"
     ]
    }
   ],
   "source": [
    "# We have a significance level of 1%\n",
    "prob = 0.99\n",
    "critical_from_confidene = chi2.ppf(prob, dof)\n",
    "print(f\"Critical value: {critical_from_confidene}\")\n",
    "if abs(stat) >= critical_from_confidene:\n",
    "    print('Values are dependent (We reject H0)')\n",
    "else:\n",
    "    print('Values are independent (We fail to reject H0)')"
   ]
  },
  {
   "cell_type": "markdown",
   "metadata": {},
   "source": [
    "### Excercise 2 Chi Square Test 2"
   ]
  },
  {
   "cell_type": "code",
   "execution_count": 10,
   "metadata": {},
   "outputs": [
    {
     "data": {
      "text/html": [
       "<img src=\"pictures/problem_3.jpg\", width=600, height=600>"
      ],
      "text/plain": [
       "<IPython.core.display.HTML object>"
      ]
     },
     "metadata": {},
     "output_type": "display_data"
    }
   ],
   "source": [
    "%%html\n",
    "<img src=\"pictures/problem_3.jpg\", width=600, height=600>"
   ]
  },
  {
   "cell_type": "code",
   "execution_count": 11,
   "metadata": {},
   "outputs": [
    {
     "name": "stdout",
     "output_type": "stream",
     "text": [
      "Stat: 45.83333333333333, p-value: 2.667588114468926e-09, degrees of freedom: 4, expected results: [[18.  9.  3.]\n",
      " [18.  9.  3.]\n",
      " [24. 12.  4.]]\n"
     ]
    }
   ],
   "source": [
    "# First we have to check the expected cell frequencies to determine if a chi square test is even feasible\n",
    "con_table = np.array([[30, 0, 0],[20, 10, 0],[10, 20, 10]])\n",
    "\n",
    "# Get the test-statistic, p-value, degrees of freedom and the expected frequencies\n",
    "stat, p, dof, expected = chi2_contingency(con_table, correction=False)\n",
    "print(f\"Stat: {stat}, p-value: {p}, degrees of freedom: {dof}, expected results: {expected}\")"
   ]
  },
  {
   "cell_type": "code",
   "execution_count": 12,
   "metadata": {},
   "outputs": [
    {
     "name": "stdout",
     "output_type": "stream",
     "text": [
      "Test is not feasible\n"
     ]
    }
   ],
   "source": [
    "# Check for expected cell frequencies below 5\n",
    "if expected[expected < 5].size > 0:\n",
    "    print(\"Test is not feasible\")\n",
    "else:\n",
    "    print(\"Test is feasible\")"
   ]
  },
  {
   "cell_type": "code",
   "execution_count": 13,
   "metadata": {},
   "outputs": [
    {
     "name": "stdout",
     "output_type": "stream",
     "text": [
      "Stat: 40.97222222222222, p-value: 1.267637238833032e-09, degrees of freedom: 2, expected results: [[18. 12.]\n",
      " [18. 12.]\n",
      " [24. 16.]]\n"
     ]
    }
   ],
   "source": [
    "# Since the test is not feasible we combine the columns 2 and 3\n",
    "con_table = np.array([[30, 0],[20, 10],[10, 30]])\n",
    "\n",
    "# Get the test-statistic, p-value, degrees of freedom and the expected frequencies\n",
    "stat, p, dof, expected = chi2_contingency(con_table, correction=False)\n",
    "print(f\"Stat: {stat}, p-value: {p}, degrees of freedom: {dof}, expected results: {expected}\")"
   ]
  },
  {
   "cell_type": "code",
   "execution_count": 14,
   "metadata": {},
   "outputs": [
    {
     "name": "stdout",
     "output_type": "stream",
     "text": [
      "Test is feasible\n"
     ]
    }
   ],
   "source": [
    "# Check for expected cell frequencies below 5\n",
    "if expected[expected < 5].size > 0:\n",
    "    print(\"Test is not feasible\")\n",
    "else:\n",
    "    print(\"Test is feasible\")"
   ]
  },
  {
   "cell_type": "code",
   "execution_count": 16,
   "metadata": {},
   "outputs": [
    {
     "name": "stdout",
     "output_type": "stream",
     "text": [
      "Critical value: 4.605170185988092\n",
      "Values are dependent (We reject H0)\n"
     ]
    }
   ],
   "source": [
    "# We have a significance level of 10%\n",
    "prob = 0.9\n",
    "critical_from_confidene = chi2.ppf(prob, dof)\n",
    "print(f\"Critical value: {critical_from_confidene}\")\n",
    "if abs(stat) >= critical_from_confidene:\n",
    "    print('Values are dependent (We reject H0)')\n",
    "else:\n",
    "    print('Values are independent (We fail to reject H0)')"
   ]
  },
  {
   "cell_type": "code",
   "execution_count": null,
   "metadata": {},
   "outputs": [],
   "source": []
  }
 ],
 "metadata": {
  "kernelspec": {
   "display_name": "Python 3",
   "language": "python",
   "name": "python3"
  },
  "language_info": {
   "codemirror_mode": {
    "name": "ipython",
    "version": 3
   },
   "file_extension": ".py",
   "mimetype": "text/x-python",
   "name": "python",
   "nbconvert_exporter": "python",
   "pygments_lexer": "ipython3",
   "version": "3.6.8"
  }
 },
 "nbformat": 4,
 "nbformat_minor": 2
}
