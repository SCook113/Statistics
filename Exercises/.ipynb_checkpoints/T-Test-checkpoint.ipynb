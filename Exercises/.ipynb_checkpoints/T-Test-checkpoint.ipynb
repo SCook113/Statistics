{
 "cells": [
  {
   "cell_type": "code",
   "execution_count": 1,
   "metadata": {},
   "outputs": [
    {
     "name": "stdout",
     "output_type": "stream",
     "text": [
      "Using matplotlib backend: TkAgg\n"
     ]
    }
   ],
   "source": [
    "import numpy as np\n",
    "%matplotlib\n",
    "import matplotlib as plt\n",
    "import math\n",
    "from scipy import stats"
   ]
  },
  {
   "cell_type": "markdown",
   "metadata": {},
   "source": [
    "### Excercise 1 Expected Value - One Sample T-Test - Two Sided"
   ]
  },
  {
   "cell_type": "markdown",
   "metadata": {},
   "source": [
    "A short explanation:\n",
    "(Can be found here https://matheguru.com/stochastik/t-test.html)"
   ]
  },
  {
   "cell_type": "code",
   "execution_count": 2,
   "metadata": {},
   "outputs": [
    {
     "data": {
      "text/html": [
       "<img src=\"pictures/t-test_info.jpg\", width=900>"
      ],
      "text/plain": [
       "<IPython.core.display.HTML object>"
      ]
     },
     "metadata": {},
     "output_type": "display_data"
    }
   ],
   "source": [
    "%%html\n",
    "<img src=\"pictures/t-test_info.jpg\", width=900>"
   ]
  },
  {
   "cell_type": "markdown",
   "metadata": {},
   "source": [
    "Excersies can be found here:\n",
    "http://www.mathods.com/mathe.php?con=Statistik&can=Hypothesentests&cun=Erwartungswert"
   ]
  },
  {
   "cell_type": "code",
   "execution_count": 12,
   "metadata": {},
   "outputs": [
    {
     "data": {
      "text/html": [
       "<img src=\"pictures/problem_4.jpg\", width=600>"
      ],
      "text/plain": [
       "<IPython.core.display.HTML object>"
      ]
     },
     "metadata": {},
     "output_type": "display_data"
    }
   ],
   "source": [
    "%%html\n",
    "<img src=\"pictures/problem_4.jpg\", width=600>"
   ]
  },
  {
   "cell_type": "code",
   "execution_count": 4,
   "metadata": {},
   "outputs": [],
   "source": [
    "sample_mean = 998.2875\n",
    "population_mean = 1000\n",
    "standard_deviation = 2.5\n",
    "alpha = 0.05\n",
    "n = 16\n",
    "dof = 15"
   ]
  },
  {
   "cell_type": "code",
   "execution_count": 5,
   "metadata": {},
   "outputs": [
    {
     "name": "stdout",
     "output_type": "stream",
     "text": [
      "Teststatistic: -2.739999999999964\n"
     ]
    }
   ],
   "source": [
    "# Calculate Teststatistic \n",
    "T = ( (sample_mean - population_mean) / standard_deviation ) * math.sqrt( n )\n",
    "print(f\"Teststatistic: {T}\")"
   ]
  },
  {
   "cell_type": "code",
   "execution_count": 6,
   "metadata": {},
   "outputs": [
    {
     "name": "stdout",
     "output_type": "stream",
     "text": [
      "Critical value: 2.131449545559323\n"
     ]
    }
   ],
   "source": [
    "# Calculate critical value\n",
    "# Since we are testing for a population mean equal to 1000, we use a two sided t-test\n",
    "t_critical_value = stats.t.ppf(1 - alpha/2 , df=dof)\n",
    "print(f\"Critical value: {t_critical_value}\")"
   ]
  },
  {
   "cell_type": "code",
   "execution_count": 7,
   "metadata": {},
   "outputs": [
    {
     "name": "stdout",
     "output_type": "stream",
     "text": [
      "We can reject H0 for a significance level of 0.05\n"
     ]
    }
   ],
   "source": [
    "if abs(T) > t_critical_value:\n",
    "    print(f\"We can reject H0 for a significance level of {alpha}\")\n",
    "else:\n",
    "    print(\"We failed to reject H0\")"
   ]
  },
  {
   "cell_type": "markdown",
   "metadata": {},
   "source": [
    "### Excercise 2 Expected Value - One Sample T-Test One Sided"
   ]
  },
  {
   "cell_type": "markdown",
   "metadata": {},
   "source": [
    "Excersies can be found here:\n",
    "http://www.mathods.com/mathe.php?con=Statistik&can=Hypothesentests&cun=Erwartungswert"
   ]
  },
  {
   "cell_type": "code",
   "execution_count": 11,
   "metadata": {},
   "outputs": [
    {
     "data": {
      "text/html": [
       "<img src=\"pictures/problem_5.jpg\", width=600>"
      ],
      "text/plain": [
       "<IPython.core.display.HTML object>"
      ]
     },
     "metadata": {},
     "output_type": "display_data"
    }
   ],
   "source": [
    "%%html\n",
    "<img src=\"pictures/problem_5.jpg\", width=600>"
   ]
  },
  {
   "cell_type": "code",
   "execution_count": 9,
   "metadata": {},
   "outputs": [],
   "source": [
    "sample_mean2 = 998.2875\n",
    "population_mean2 = 1000\n",
    "standard_deviation2 = 2.5\n",
    "alpha2 = 0.05\n",
    "n2 = 16\n",
    "dof2 = 15"
   ]
  },
  {
   "cell_type": "code",
   "execution_count": 10,
   "metadata": {},
   "outputs": [
    {
     "name": "stdout",
     "output_type": "stream",
     "text": [
      "Teststatistic: -2.739999999999964\n",
      "Critical value: -1.7530503556925547\n",
      "We can reject H0 for a significance level of 0.05\n"
     ]
    }
   ],
   "source": [
    "# Calculate Teststatistic \n",
    "T2 = ( (sample_mean2 - population_mean2) / standard_deviation2 ) * math.sqrt( n2 )\n",
    "print(f\"Teststatistic: {T2}\")\n",
    "# Calculate critical value\n",
    "# Since we are testing for a population mean greater than 1000, we use a one tailed t-test\n",
    "t_critical_value2 =  - stats.t.ppf(1 - alpha2 , df=dof2)\n",
    "print(f\"Critical value: {t_critical_value2}\")\n",
    "if T2 < t_critical_value2:\n",
    "    print(f\"We can reject H0 for a significance level of {alpha2}\")\n",
    "else:\n",
    "    print(\"We failed to reject H0\")"
   ]
  }
 ],
 "metadata": {
  "kernelspec": {
   "display_name": "Python 3",
   "language": "python",
   "name": "python3"
  },
  "language_info": {
   "codemirror_mode": {
    "name": "ipython",
    "version": 3
   },
   "file_extension": ".py",
   "mimetype": "text/x-python",
   "name": "python",
   "nbconvert_exporter": "python",
   "pygments_lexer": "ipython3",
   "version": "3.6.8"
  }
 },
 "nbformat": 4,
 "nbformat_minor": 2
}
